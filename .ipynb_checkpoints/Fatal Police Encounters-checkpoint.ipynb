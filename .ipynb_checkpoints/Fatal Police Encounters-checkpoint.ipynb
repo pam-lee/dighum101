{
 "cells": [
  {
   "cell_type": "markdown",
   "metadata": {},
   "source": [
    "# Fatal Police Encounters in the US\n",
    "****"
   ]
  },
  {
   "cell_type": "markdown",
   "metadata": {},
   "source": [
    "## Topic \n",
    "\n",
    "The topic of this project is about the lives that have been taken away due to police\n",
    "brutality in the US. This issue isn’t just a matter of health concerns and excessive force, it\n",
    "involves racism and injustice. People of color, especially Black people, have been facing a\n",
    "higher risk of being killed by the police than White people. The rate of death by police in the US\n",
    "is concerningly high and occurs much more frequently than in other countries. \n",
    "\n",
    "This can no\n",
    "longer be overlooked; it must be stopped. For too long, Black people in the US have been\n",
    "unfairly treated at the hands of the criminal justice system and police brutality played a\n",
    "significant role in this. \n",
    "\n",
    "> ### Why this topic?\n",
    "People, including myself, need to be more aware and educated about this social issue. Black lives matter and society won’t change without any efforts.\n",
    "\n",
    "> I desire to gain new knowledge and learn the extent of how mistreated Black’s lives were, simply because of their skin color. I want to be informed with the most recent data and facts about the police violence in the US and be more aware of this social issue. Having a greater sense of the seriousness of this concern is important and hopefully, this project will be used to further educate the people in my surroundings and others as well during these times."
   ]
  },
  {
   "cell_type": "markdown",
   "metadata": {},
   "source": [
    "## Research Question\n",
    "\n",
    "What is the trend of the deaths from police\n",
    "violence year-by-year from 2015 to 2020? \n",
    "\n",
    "> ### How is this relevant to the topic? \n",
    "It will provide data and insights on how racism and injustice are presented in\n",
    "police violence. The trend of each year will display the level of how the polices in the US are\n",
    "excessively using their force within each race. "
   ]
  },
  {
   "cell_type": "markdown",
   "metadata": {},
   "source": [
    "## Data Sources\n",
    "The primary data source for the analysis is from [The Washington Post](https://raw.githubusercontent.com/washingtonpost/data-police-shootings/master/fatal-police-shootings-data.csv)\n",
    ". It is a `.csv` file and includes the data of victims who have been killed by the police starting\n",
    "from the beginning of the year 2015 to June 2020. \n",
    "\n",
    "It provides the ID, name of the victim, manner of death, whether they\n",
    "were armed or not, age, gender, race, and more.\n",
    "****\n"
   ]
  },
  {
   "cell_type": "markdown",
   "metadata": {},
   "source": [
    "## Install and import"
   ]
  },
  {
   "cell_type": "code",
   "execution_count": 14,
   "metadata": {},
   "outputs": [
    {
     "name": "stdout",
     "output_type": "stream",
     "text": [
      "Requirement already satisfied: wordcloud in /Users/pamelalee/opt/anaconda3/lib/python3.7/site-packages (1.7.0)\n",
      "Requirement already satisfied: matplotlib in /Users/pamelalee/opt/anaconda3/lib/python3.7/site-packages (from wordcloud) (3.1.3)\n",
      "Requirement already satisfied: pillow in /Users/pamelalee/opt/anaconda3/lib/python3.7/site-packages (from wordcloud) (7.0.0)\n",
      "Requirement already satisfied: numpy>=1.6.1 in /Users/pamelalee/opt/anaconda3/lib/python3.7/site-packages (from wordcloud) (1.18.1)\n",
      "Requirement already satisfied: python-dateutil>=2.1 in /Users/pamelalee/opt/anaconda3/lib/python3.7/site-packages (from matplotlib->wordcloud) (2.8.1)\n",
      "Requirement already satisfied: cycler>=0.10 in /Users/pamelalee/opt/anaconda3/lib/python3.7/site-packages (from matplotlib->wordcloud) (0.10.0)\n",
      "Requirement already satisfied: pyparsing!=2.0.4,!=2.1.2,!=2.1.6,>=2.0.1 in /Users/pamelalee/opt/anaconda3/lib/python3.7/site-packages (from matplotlib->wordcloud) (2.4.6)\n",
      "Requirement already satisfied: kiwisolver>=1.0.1 in /Users/pamelalee/opt/anaconda3/lib/python3.7/site-packages (from matplotlib->wordcloud) (1.1.0)\n",
      "Requirement already satisfied: six>=1.5 in /Users/pamelalee/opt/anaconda3/lib/python3.7/site-packages (from python-dateutil>=2.1->matplotlib->wordcloud) (1.14.0)\n",
      "Requirement already satisfied: setuptools in /Users/pamelalee/opt/anaconda3/lib/python3.7/site-packages (from kiwisolver>=1.0.1->matplotlib->wordcloud) (46.0.0.post20200309)\n"
     ]
    }
   ],
   "source": [
    "!pip install wordcloud"
   ]
  },
  {
   "cell_type": "code",
   "execution_count": 1,
   "metadata": {},
   "outputs": [],
   "source": [
    "import os\n",
    "import pandas as pd\n",
    "import matplotlib\n",
    "import matplotlib.pyplot as plt\n",
    "import numpy as np\n",
    "import datetime\n",
    "import seaborn as sns\n",
    "from sklearn.feature_extraction.text import CountVectorizer\n",
    "from sklearn.feature_extraction.text import TfidfVectorizer\n",
    "%matplotlib inline\n",
    "from collections import Counter\n",
    "from wordcloud import WordCloud"
   ]
  },
  {
   "cell_type": "code",
   "execution_count": 51,
   "metadata": {},
   "outputs": [
    {
     "data": {
      "text/plain": [
       "'/Users/pamelalee/Desktop/police-brutality/data'"
      ]
     },
     "execution_count": 51,
     "metadata": {},
     "output_type": "execute_result"
    }
   ],
   "source": [
    "pwd"
   ]
  },
  {
   "cell_type": "code",
   "execution_count": 2,
   "metadata": {},
   "outputs": [],
   "source": [
    "os.chdir(\"../police-brutality/data/\")\n"
   ]
  },
  {
   "cell_type": "markdown",
   "metadata": {},
   "source": [
    "## Import .csv files"
   ]
  },
  {
   "cell_type": "code",
   "execution_count": 3,
   "metadata": {},
   "outputs": [],
   "source": [
    "victims = pd.read_csv(\"fatal-police.csv\")\n",
    "victims2015 = pd.read_csv(\"police-2015.csv\")\n",
    "victims2016 = pd.read_csv(\"police-2016.csv\")\n",
    "victims2017 = pd.read_csv(\"police-2017.csv\")\n",
    "victims2018 = pd.read_csv(\"police-2018.csv\")\n",
    "victims2019 = pd.read_csv(\"police-2019.csv\")\n",
    "victims2020 = pd.read_csv(\"police-2020.csv\")"
   ]
  },
  {
   "cell_type": "markdown",
   "metadata": {
    "scrolled": true
   },
   "source": [
    "## Split date by year, month, and day\n"
   ]
  },
  {
   "cell_type": "code",
   "execution_count": 10,
   "metadata": {},
   "outputs": [],
   "source": [
    "victims2015['year']=[d.split('/')[2] for d in victims2015.date]\n",
    "victims2015['month']=[d.split('/')[0] for d in victims2015.date]\n",
    "victims2015['day']=[d.split('/')[1] for d in victims2015.date]\n",
    "\n",
    "victims2016['year']=[d.split('/')[2] for d in victims2016.date]\n",
    "victims2016['month']=[d.split('/')[0] for d in victims2016.date]\n",
    "victims2016['day']=[d.split('/')[1] for d in victims2016.date]\n",
    "\n",
    "victims2017['year']=[d.split('/')[2] for d in victims2017.date]\n",
    "victims2017['month']=[d.split('/')[0] for d in victims2017.date]\n",
    "victims2017['day']=[d.split('/')[1] for d in victims2017.date]\n",
    "\n",
    "victims2018['year']=[d.split('/')[2] for d in victims2018.date]\n",
    "victims2018['month']=[d.split('/')[0] for d in victims2018.date]\n",
    "victims2018['day']=[d.split('/')[1] for d in victims2018.date]\n",
    "\n",
    "victims2019['year']=[d.split('/')[2] for d in victims2019.date]\n",
    "victims2019['month']=[d.split('/')[0] for d in victims2019.date]\n",
    "victims2019['day']=[d.split('/')[1] for d in victims2019.date]\n",
    "\n",
    "victims2020['year']=[d.split('/')[2] for d in victims2020.date]\n",
    "victims2020['month']=[d.split('/')[0] for d in victims2020.date]\n",
    "victims2020['day']=[d.split('/')[1] for d in victims2020.date]\n",
    "\n",
    "victims['year']=[d.split('-')[2] for d in victims.date]\n",
    "victims['month']=[d.split('-')[0] for d in victims.date]\n",
    "victims['day']=[d.split('-')[1] for d in victims.date]"
   ]
  },
  {
   "cell_type": "code",
   "execution_count": 15,
   "metadata": {},
   "outputs": [
    {
     "data": {
      "image/png": "[encoded data removed]",
      "text/plain": [
       "<Figure size 432x288 with 1 Axes>"
      ]
     },
     "metadata": {
      "needs_background": "light"
     },
     "output_type": "display_data"
    }
   ],
   "source": [
    "# Divide by the population percentage\n",
    "\n",
    "W_victims_2020= (len(victims2020[victims2020[\"race\"]==\"W\"]))/0.601\n",
    "W_victims_2019= (len(victims2019[victims2019[\"race\"]==\"W\"]))/0.601\n",
    "W_victims_2018= (len(victims2018[victims2018[\"race\"]==\"W\"]))/0.601\n",
    "W_victims_2017= (len(victims2017[victims2017[\"race\"]==\"W\"]))/0.601\n",
    "W_victims_2016= (len(victims2016[victims2016[\"race\"]==\"W\"]))/0.601\n",
    "W_victims_2015= (len(victims2015[victims2015[\"race\"]==\"W\"]))/0.601\n",
    "\n",
    "B_victims_2020= (len(victims2020[victims2020[\"race\"]==\"B\"]))/0.134\n",
    "B_victims_2019= (len(victims2019[victims2019[\"race\"]==\"B\"]))/0.134\n",
    "B_victims_2018= (len(victims2018[victims2018[\"race\"]==\"B\"]))/0.134\n",
    "B_victims_2017= (len(victims2017[victims2017[\"race\"]==\"B\"]))/0.134\n",
    "B_victims_2016= (len(victims2016[victims2016[\"race\"]==\"B\"]))/0.134\n",
    "B_victims_2015= (len(victims2015[victims2015[\"race\"]==\"B\"]))/0.134\n",
    "\n",
    "H_victims_2020= (len(victims2020[victims2020[\"race\"]==\"H\"]))/0.185\n",
    "H_victims_2019= (len(victims2019[victims2019[\"race\"]==\"H\"]))/0.185\n",
    "H_victims_2018= (len(victims2018[victims2018[\"race\"]==\"H\"]))/0.185\n",
    "H_victims_2017= (len(victims2017[victims2017[\"race\"]==\"H\"]))/0.185\n",
    "H_victims_2016= (len(victims2016[victims2016[\"race\"]==\"H\"]))/0.185\n",
    "H_victims_2015= (len(victims2015[victims2015[\"race\"]==\"H\"]))/0.185\n",
    "\n",
    "\n",
    "barWidth = 0.1\n",
    "\n",
    "W_Victims = [W_victims_2015,W_victims_2016,W_victims_2017,W_victims_2018,W_victims_2019, W_victims_2020]\n",
    "B_Victims = [B_victims_2015,B_victims_2016,B_victims_2017,B_victims_2018,B_victims_2019, B_victims_2020]\n",
    "H_Victims = [H_victims_2015,H_victims_2016,H_victims_2017,H_victims_2018,H_victims_2019, H_victims_2020]\n",
    "\n",
    "\n",
    "# Set position of bar on X axis\n",
    "r1 = np.arange(len(W_Victims))\n",
    "r2 = [x + barWidth for x in r1]\n",
    "r3 = [x + barWidth for x in r2]\n",
    "r4 = [x + barWidth for x in r3]\n",
    "r5 = [x + barWidth for x in r4]\n",
    "r6 = [x + barWidth for x in r5]\n",
    "\n",
    "# Make the plot\n",
    "plt.bar(r1, W_Victims, color='green', width=barWidth, edgecolor='white', label='White')\n",
    "plt.bar(r2, B_Victims, color='blue', width=barWidth, edgecolor='white', label='Black')\n",
    "plt.bar(r3, H_Victims, color='red', width=barWidth, edgecolor='white', label='Hispanic') \n",
    "\n",
    "\n",
    "# Add xticks on the middle of the group bars\n",
    "plt.xlabel('Years')\n",
    "plt.ylabel('Victim Count')\n",
    "plt.xticks([r + barWidth for r in range(len(W_Victims))], ['2015', '2016', '2017', '2018', '2019','2020'])\n",
    " \n",
    "# Create legend & Show graphic\n",
    "plt.title('Fatal Police Encounters')\n",
    "plt.legend()\n",
    "plt.show()"
   ]
  },
  {
   "cell_type": "code",
   "execution_count": null,
   "metadata": {},
   "outputs": [],
   "source": []
  }
 ],
 "metadata": {
  "kernelspec": {
   "display_name": "Python 3",
   "language": "python",
   "name": "python3"
  },
  "language_info": {
   "codemirror_mode": {
    "name": "ipython",
    "version": 3
   },
   "file_extension": ".py",
   "mimetype": "text/x-python",
   "name": "python",
   "nbconvert_exporter": "python",
   "pygments_lexer": "ipython3",
   "version": "3.7.6"
  }
 },
 "nbformat": 4,
 "nbformat_minor": 4
}
